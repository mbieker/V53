{
 "cells": [
  {
   "cell_type": "code",
   "execution_count": 9,
   "metadata": {
    "collapsed": false
   },
   "outputs": [],
   "source": [
    "import numpy as np\n",
    "import matplotlib.pyplot as plt\n",
    "%matplotlib inline"
   ]
  },
  {
   "cell_type": "markdown",
   "metadata": {},
   "source": [
    "#Untersuchung der Moden"
   ]
  },
  {
   "cell_type": "code",
   "execution_count": 10,
   "metadata": {
    "collapsed": true
   },
   "outputs": [],
   "source": [
    "mode_data = [[201,218,232.5,6.7,9000],[120,140,151,6.7,9004],[68,72,92,5.3,9010]]"
   ]
  },
  {
   "cell_type": "code",
   "execution_count": 11,
   "metadata": {
    "collapsed": false
   },
   "outputs": [
    {
     "data": {
      "text/plain": [
       "[[201, 218, 232.5, 6.7, 9000],\n",
       " [120, 140, 151, 6.7, 9004],\n",
       " [68, 72, 92, 5.3, 9010]]"
      ]
     },
     "execution_count": 11,
     "metadata": {},
     "output_type": "execute_result"
    }
   ],
   "source": [
    "mode_data"
   ]
  },
  {
   "cell_type": "code",
   "execution_count": 18,
   "metadata": {
    "collapsed": false
   },
   "outputs": [
    {
     "data": {
      "image/png": "[encoded data removed]",
      "text/plain": [
       "<matplotlib.figure.Figure at 0x7f4016db3910>"
      ]
     },
     "metadata": {},
     "output_type": "display_data"
    }
   ],
   "source": [
    "plt.close()\n",
    "i= 0\n",
    "for mode in mode_data:\n",
    "    i = i+1\n",
    "    plt.plot(mode[:3],[0,mode[3],0], 'o', label = \"%i. Modus\" %i)\n",
    "    \n",
    "plt.legend()\n",
    "plt.xlabel(\"Reflektorspannung in V\")\n",
    "plt.ylabel(\"Amplitude in div\")\n",
    "plt.ylim(-1,10)\n",
    "plt.savefig(\"mode_plot.png\")\n",
    "plt.show()"
   ]
  },
  {
   "cell_type": "markdown",
   "metadata": {},
   "source": [
    "#Untersuchung der Dämpfung"
   ]
  },
  {
   "cell_type": "code",
   "execution_count": 30,
   "metadata": {
    "collapsed": true
   },
   "outputs": [],
   "source": [
    "daempf = np.arange(0,11,2)\n",
    "delta_x = np.array([0,1.85,2.32,2.59,2.77,2.99])\n",
    "theory = np.array([0,6.15,10,13,14,17])"
   ]
  },
  {
   "cell_type": "code",
   "execution_count": 40,
   "metadata": {
    "collapsed": false
   },
   "outputs": [
    {
     "data": {
      "image/png": "[encoded data removed]",
      "text/plain": [
       "<matplotlib.figure.Figure at 0x7f4016e30390>"
      ]
     },
     "metadata": {},
     "output_type": "display_data"
    }
   ],
   "source": [
    "plt.close()\n",
    "plt.plot(delta_x,daempf ,'x', label =\"Messerwerte\")\n",
    "plt.plot(delta_x, theory,'o' ,label = \"Eichkurve\")\n",
    "plt.ylabel(r\"Daempfung in dB\")\n",
    "plt.xlabel(r\"$\\Delta x$ in mm\")\n",
    "plt.legend(loc=2)\n",
    "plt.savefig(\"daempf_plot.png\")\n",
    "plt.show()"
   ]
  },
  {
   "cell_type": "code",
   "execution_count": 41,
   "metadata": {
    "collapsed": true
   },
   "outputs": [],
   "source": [
    "#Frequenz und Wellenlänge"
   ]
  },
  {
   "cell_type": "code",
   "execution_count": 45,
   "metadata": {
    "collapsed": false
   },
   "outputs": [
    {
     "name": "stdout",
     "output_type": "stream",
     "text": [
      "8319.43041648\n"
     ]
    }
   ],
   "source": [
    "c = 3e8\n",
    "a = 22.85e-3\n",
    "wl = 58.7e-3\n",
    "freq = c * (wl**-2+(2*a)**-2)**0.5\n",
    "print freq*1e-6"
   ]
  },
  {
   "cell_type": "code",
   "execution_count": null,
   "metadata": {
    "collapsed": true
   },
   "outputs": [],
   "source": []
  }
 ],
 "metadata": {
  "kernelspec": {
   "display_name": "Python 2",
   "language": "python",
   "name": "python2"
  },
  "language_info": {
   "codemirror_mode": {
    "name": "ipython",
    "version": 2
   },
   "file_extension": ".py",
   "mimetype": "text/x-python",
   "name": "python",
   "nbconvert_exporter": "python",
   "pygments_lexer": "ipython2",
   "version": "2.7.8"
  },
  "name": "Auswertung.ipynb"
 },
 "nbformat": 4,
 "nbformat_minor": 0
}
